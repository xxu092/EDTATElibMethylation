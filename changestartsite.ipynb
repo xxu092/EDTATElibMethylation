{
 "cells": [
  {
   "cell_type": "code",
   "execution_count": 1,
   "id": "70128a79-a7eb-4adb-bf50-695387536641",
   "metadata": {},
   "outputs": [
    {
     "name": "stdout",
     "output_type": "stream",
     "text": [
      "       seqid source          sequence_ontology  start   end score strand  \\\n",
      "0  010000001   EDTA        LTR_retrotransposon      1   393  3200      +   \n",
      "1  010000001   EDTA              repeat_region   1316  1443   518      -   \n",
      "2  010000001   EDTA  Gypsy_LTR_retrotransposon   1471  1919  3052      -   \n",
      "3  010000001   EDTA  Gypsy_LTR_retrotransposon   2268  3386  7044      -   \n",
      "4  010000001   EDTA              repeat_region   3854  3956   549      -   \n",
      "\n",
      "  phase                                         attributes  \n",
      "0     .  ID=TE_homo_0;Name=TE_00002097_INT;Classificati...  \n",
      "1     .  ID=TE_homo_1;Name=TE_00000591;Classification=U...  \n",
      "2     .  ID=TE_homo_2;Name=TE_00003094_INT;Classificati...  \n",
      "3     .  ID=TE_homo_3;Name=TE_00001615_INT;Classificati...  \n",
      "4     .  ID=TE_homo_4;Name=TE_00000619;Classification=U...  \n"
     ]
    }
   ],
   "source": [
    "import pandas as pd\n",
    "df = pd.read_csv('GCA_022478985.1_UCR_MCPNR19_1.0_genomic.fna.mod.EDTA.TEanno.gff3', sep='\\t', header=None, comment='#',\n",
    "                 names=['seqid', 'source', 'sequence_ontology', 'start', 'end', 'score', 'strand', 'phase', 'attributes'], dtype={'seqid':str})\n",
    "print(df.head())"
   ]
  },
  {
   "cell_type": "code",
   "execution_count": 2,
   "id": "415e50c2-2c1c-4af1-9fe8-ad20accde71b",
   "metadata": {},
   "outputs": [],
   "source": [
    "import re\n",
    "df['start']=df['start'].replace(0,1)\n",
    "\n"
   ]
  },
  {
   "cell_type": "code",
   "execution_count": 3,
   "id": "0003885c-09c2-4d00-84dc-78209998be7a",
   "metadata": {},
   "outputs": [],
   "source": [
    "df.to_csv(\"M.cicadina.TElib.gff3\", sep='\\t',header=False, index=False, quoting=None, escapechar='\\\\')"
   ]
  },
  {
   "cell_type": "code",
   "execution_count": null,
   "id": "f0edc884-555c-496a-9b25-28ecfabfbee5",
   "metadata": {},
   "outputs": [],
   "source": []
  },
  {
   "cell_type": "code",
   "execution_count": null,
   "id": "a189f2e5-0469-48f3-a543-dbed56ecff3a",
   "metadata": {},
   "outputs": [],
   "source": []
  }
 ],
 "metadata": {
  "kernelspec": {
   "display_name": "Python 3",
   "language": "python",
   "name": "python3"
  },
  "language_info": {
   "codemirror_mode": {
    "name": "ipython",
    "version": 3
   },
   "file_extension": ".py",
   "mimetype": "text/x-python",
   "name": "python",
   "nbconvert_exporter": "python",
   "pygments_lexer": "ipython3",
   "version": "3.9.7"
  },
  "vscode": {
   "interpreter": {
    "hash": "916dbcbb3f70747c44a77c7bcd40155683ae19c65e1c03b4aa3499c5328201f1"
   }
  }
 },
 "nbformat": 4,
 "nbformat_minor": 5
}
